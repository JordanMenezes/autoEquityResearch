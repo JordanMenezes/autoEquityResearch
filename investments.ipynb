{
  "cells": [
    {
      "cell_type": "markdown",
      "metadata": {
        "id": "kS0fJUN293PI"
      },
      "source": [
        "# Welcome to Automated Equity Investment Research\n",
        "\n",
        "Welcome to this *work-in-progress* tool designed to assist analysts in automating equity investment research for stocks of choice and discovering potential investment opportunities.\n",
        "\n",
        "## What Does This Tool Do?\n",
        "\n",
        "This tool automates the process of gathering both technical and fundamental information. By default, it covers companies listed on the Saudi stock exchange. You can customize the selection by adding your preferred stock tickers; refer to the `How to Select Companies` section for guidance.\n",
        "\n",
        "## How to Use\n",
        "\n",
        "1. If you're new to Python, simply press CTRL+F9 to execute the script. Wait until it finishes running, and an Excel file named `colab_stock_data.xlsx` is saved in your Downloads folder. *In case you get, \"shared with multiple\" error then run each cell manually one by one until last step.* Alternatively, you may save a copy in your Google Drive and run it from here using CTRL+F9.\n",
        "\n",
        "2. You may also run this on your mobile devices. However, you will need a spreadsheet/Excel app.\n",
        "\n",
        "## How to Select Companies\n",
        "\n",
        "Navigate to the `Select Your Companies` section below and modify the list of stock tickers according to your preferences. You can find ticker names on https://finance.yahoo.com/ for use in this tool.\n",
        "\n",
        "```\n",
        "**Disclaimer:** This tool is provided for educational and recreational\n",
        "purposes and should not be considered as investment advice. Information\n",
        "is sourced from Yahoo! Finance and is provided as-is, without any expressed\n",
        "or implied warranties.\n",
        "\n",
        "Your feedback and ideas for improvement are welcome.\n",
        "```"
      ]
    },
    {
      "cell_type": "code",
      "source": [
        "# Select your companies\n",
        "\n",
        "# Default list below relates to Saudi companies.\n",
        "# You may find your favorite tickers at https://finance.yahoo.com/ to\n",
        "# replace default.\n",
        "\n",
        "ticker_symbols = [\n",
        "    '1010.SR', '1020.SR', '1030.SR', '1050.SR', '1060.SR', '1080.SR', '1111.SR',\n",
        "    '1120.SR', '1140.SR', '1150.SR', '1180.SR', '1182.SR', '1183.SR', '1201.SR',\n",
        "    '1202.SR', '1210.SR', '1211.SR', '1212.SR', '1213.SR', '1214.SR', '1301.SR',\n",
        "    '1302.SR', '1303.SR', '1304.SR', '1320.SR', '1321.SR', '1322.SR', '1810.SR',\n",
        "    '1820.SR', '1830.SR', '1831.SR', '1832.SR', '1833.SR', '2001.SR', '2010.SR',\n",
        "    '2020.SR', '2030.SR', '2040.SR', '2050.SR', '2060.SR', '2070.SR', '2080.SR',\n",
        "    '2081.SR', '2082.SR', '2083.SR', '2090.SR', '2100.SR', '2110.SR', '2120.SR',\n",
        "    '2130.SR', '2140.SR', '2150.SR', '2160.SR', '2170.SR', '2180.SR', '2190.SR',\n",
        "    '2200.SR', '2210.SR', '2220.SR', '2222.SR', '2223.SR', '2230.SR', '2240.SR',\n",
        "    '2250.SR', '2270.SR', '2280.SR', '2281.SR', '2282.SR', '2283.SR', '2290.SR',\n",
        "    '2300.SR', '2310.SR', '2320.SR', '2330.SR', '2340.SR', '2350.SR', '2360.SR',\n",
        "    '2370.SR', '2380.SR', '2381.SR', '3001.SR', '3002.SR', '3003.SR', '3004.SR',\n",
        "    '3005.SR', '3007.SR', '3008.SR', '3010.SR', '3020.SR', '3030.SR', '3040.SR',\n",
        "    '3050.SR', '3060.SR', '3080.SR', '3090.SR', '3091.SR', '4001.SR', '4002.SR',\n",
        "    '4003.SR', '4004.SR', '4005.SR', '4006.SR', '4007.SR', '4008.SR', '4009.SR',\n",
        "    '4010.SR', '4011.SR', '4012.SR', '4013.SR', '4014.SR', '4015.SR', '4020.SR',\n",
        "    '4030.SR', '4031.SR', '4040.SR', '4050.SR', '4051.SR', '4061.SR', '4070.SR',\n",
        "    '4071.SR', '4080.SR', '4081.SR', '4082.SR', '4090.SR', '4100.SR', '4110.SR',\n",
        "    '4130.SR', '4140.SR', '4141.SR', '4142.SR', '4150.SR', '4160.SR', '4161.SR',\n",
        "    '4162.SR', '4163.SR', '4164.SR', '4170.SR', '4180.SR', '4190.SR', '4191.SR',\n",
        "    '4192.SR', '4200.SR', '4210.SR', '4220.SR', '4230.SR', '4240.SR', '4250.SR',\n",
        "    '4260.SR', '4261.SR', '4270.SR', '4280.SR', '4290.SR', '4291.SR', '4292.SR',\n",
        "    '4300.SR', '4310.SR', '4320.SR', '4321.SR', '4322.SR', '4323.SR', '4330.SR',\n",
        "    '4331.SR', '4332.SR', '4333.SR', '4334.SR', '4335.SR', '4336.SR', '4337.SR',\n",
        "    '4338.SR', '4339.SR', '4340.SR', '4342.SR', '4344.SR', '4345.SR', '4346.SR',\n",
        "    '4347.SR', '4348.SR', '4349.SR', '5110.SR', '6001.SR', '6002.SR', '6004.SR',\n",
        "    '6010.SR', '6012.SR', '6013.SR', '6014.SR', '6015.SR', '6020.SR', '6040.SR',\n",
        "    '6050.SR', '6060.SR', '6070.SR', '6090.SR', '7010.SR', '7020.SR', '7030.SR',\n",
        "    '7040.SR', '7200.SR', '7201.SR', '7202.SR', '7203.SR', '7204.SR', '8010.SR',\n",
        "    '8012.SR', '8020.SR', '8030.SR', '8040.SR', '8050.SR', '8060.SR', '8070.SR',\n",
        "    '8100.SR', '8120.SR', '8150.SR', '8160.SR', '8170.SR', '8180.SR', '8190.SR',\n",
        "    '8200.SR', '8210.SR', '8230.SR', '8240.SR', '8250.SR', '8260.SR', '8270.SR',\n",
        "    '8280.SR', '8300.SR', '8310.SR', '8311.SR', '8312.SR', '4262.SR'\n",
        "]"
      ],
      "metadata": {
        "id": "5z3s28qUIvh3"
      },
      "execution_count": 1,
      "outputs": []
    },
    {
      "cell_type": "code",
      "execution_count": 3,
      "metadata": {
        "colab": {
          "base_uri": "https://localhost:8080/"
        },
        "id": "aUyW9_TBV3Ca",
        "outputId": "8e867835-c121-4c6e-cc16-fe2e6a62d713"
      },
      "outputs": [
        {
          "output_type": "stream",
          "name": "stdout",
          "text": [
            "yfinance library is already installed.\n",
            "pandas library is already installed.\n",
            "requests_cache library is already installed.\n",
            "requests library is already installed.\n",
            "openpyxl library is already installed.\n"
          ]
        }
      ],
      "source": [
        "# LEAVE EVERYTHING FROM THIS POINT ONWARD UNLESS YOU KNOW THE DRILL\n",
        "# Constants\n",
        "LIBRARIES = ['yfinance', 'pandas', 'requests_cache', 'requests', 'openpyxl']\n",
        "EXCEL_FILE_PATH = 'colab_stock_data.xlsx'\n",
        "\n",
        "# Install required libraries if not already installed\n",
        "for library in LIBRARIES:\n",
        "    try:\n",
        "        __import__(library)\n",
        "        print(f\"{library} library is already installed.\")\n",
        "    except ImportError:\n",
        "        !pip install {library}\n",
        "        print(f\"Installing {library} library.\")"
      ]
    },
    {
      "cell_type": "code",
      "execution_count": 4,
      "metadata": {
        "id": "1JkAdV-EdadC"
      },
      "outputs": [],
      "source": [
        "import yfinance as yf\n",
        "import pandas as pd\n",
        "import requests_cache\n",
        "import requests\n",
        "import openpyxl\n",
        "from datetime import datetime, timedelta\n",
        "from google.colab import files\n",
        "from pandas.core.dtypes.inference import is_number\n",
        "from openpyxl import load_workbook\n",
        "from openpyxl.styles import Alignment"
      ]
    },
    {
      "cell_type": "code",
      "source": [
        "def get_stock_data(ticker_symbols, data_list, mapped_data_list):\n",
        "    result_dict = {}\n",
        "\n",
        "    with requests_cache.CachedSession():\n",
        "      for ticker in ticker_symbols:\n",
        "          try:\n",
        "              info = yf.Ticker(ticker).info\n",
        "\n",
        "              for data_item in data_list:\n",
        "                  try:\n",
        "                      alias = mapped_data_list.get(data_item)\n",
        "                      result_dict.setdefault(alias, []).append(info.get(data_item))\n",
        "                  except requests.exceptions.HTTPError as e:\n",
        "                      print(f\"An error occurred in getting {data_item}: {e}\")\n",
        "\n",
        "          except requests.exceptions.HTTPError as e:\n",
        "              print(f\"An error occurred for ticker {ticker}: {e}\")\n",
        "\n",
        "      return result_dict"
      ],
      "metadata": {
        "id": "Q1DMl7LbIuyU"
      },
      "execution_count": 5,
      "outputs": []
    },
    {
      "cell_type": "code",
      "source": [
        "# Function to get dividend history for tickers\n",
        "# I have noted a rare duplicate in reported\n",
        "# dividend payments. It is a backend issue,\n",
        "# cannot be fixed via this script.\n",
        "def extract_dividend_data(ticker_symbols):\n",
        "    dividend_df = pd.DataFrame()\n",
        "\n",
        "    with requests_cache.CachedSession():\n",
        "        for symbol in ticker_symbols:\n",
        "            try:\n",
        "                ticker = yf.Ticker(symbol)\n",
        "                dividend_history = ticker.dividends\n",
        "\n",
        "                symbol_df = pd.DataFrame({\n",
        "                    'Symbol': symbol,\n",
        "                    'shortname': ticker.info['shortName'],\n",
        "                    'Date': dividend_history.index,\n",
        "                    'Dividend': dividend_history\n",
        "                })\n",
        "\n",
        "                symbol_df['Date'] = pd.to_datetime(symbol_df['Date']).dt.strftime('%d-%b-%y')\n",
        "                dividend_df = pd.concat([dividend_df, symbol_df], ignore_index=True)\n",
        "\n",
        "            except requests.exceptions.HTTPError as e:\n",
        "                print(f\"An error occurred for ticker {symbol}: {e}\")\n",
        "\n",
        "    return dividend_df"
      ],
      "metadata": {
        "id": "8VzB_wDDIvT1"
      },
      "execution_count": 6,
      "outputs": []
    },
    {
      "cell_type": "code",
      "source": [
        "def save_dividend_data_to_excel(df, sheet_name, file_path):\n",
        "    with pd.ExcelWriter(file_path, engine='openpyxl', mode='a') as writer:\n",
        "        df.to_excel(writer, sheet_name=sheet_name, index=False)"
      ],
      "metadata": {
        "id": "cZTyRetZIve9"
      },
      "execution_count": 7,
      "outputs": []
    },
    {
      "cell_type": "code",
      "source": [
        "# Data to fetch about the tickers (leaving defaults would be a good idea)\n",
        "data_list = [\n",
        "    'industry', 'shortName', 'symbol', 'recommendationMean', 'recommendationKey',\n",
        "    'numberOfAnalystOpinions', 'currentPrice', 'fiftyTwoWeekLow', 'fiftyTwoWeekHigh',\n",
        "    '52WeekChange', 'targetHighPrice', 'targetLowPrice',\n",
        "    'targetMeanPrice', 'fiftyDayAverage', 'twoHundredDayAverage', 'beta', 'pegRatio',\n",
        "    'trailingPE', 'forwardPE', 'dividendRate', 'dividendYield', 'trailingAnnualDividendRate',\n",
        "    'trailingAnnualDividendYield', 'fiveYearAvgDividendYield', 'payoutRatio',\n",
        "    'bookValue', 'priceToBook', 'revenuePerShare', 'quickRatio', 'currentRatio',\n",
        "    'debtToEquity', 'returnOnAssets', 'returnOnEquity', 'earningsGrowth', 'revenueGrowth',\n",
        "    'grossMargins', 'ebitdaMargins', 'operatingMargins', 'trailingEps', 'forwardEps'\n",
        "]"
      ],
      "metadata": {
        "id": "jnAtJnS3Ivkj"
      },
      "execution_count": 8,
      "outputs": []
    },
    {
      "cell_type": "code",
      "source": [
        "# Set human-friendly headers for Excel\n",
        "mapped_data_list = {\n",
        "    'numberOfAnalystOpinions': \"AnalystCount\",\n",
        "    'industry': 'Industry',\n",
        "    'shortName': 'Name',\n",
        "    'symbol': 'Symbol',\n",
        "    'currentPrice': 'Last Price',\n",
        "    'fiftyTwoWeekLow': '52-Week Low',\n",
        "    'fiftyTwoWeekHigh': '52-Week High',\n",
        "    'fiftyDayAverage': '50-Day Average',\n",
        "    'twoHundredDayAverage': '200-Day Average',\n",
        "    'targetHighPrice': 'TP High',\n",
        "    'targetLowPrice': 'TP Low',\n",
        "    'targetMeanPrice': 'TP Average',\n",
        "    'recommendationMean': 'Recommendation Score (x/5)',\n",
        "    'recommendationKey': 'Recommendation',\n",
        "    'trailingPE': 'TTM PE',\n",
        "    'forwardPE': 'Forward PE',\n",
        "    'dividendRate': 'Dividend Rate',\n",
        "    'dividendYield': 'Dividend Yield',\n",
        "    'trailingAnnualDividendRate': 'TTM Dividend Rate',\n",
        "    'trailingAnnualDividendYield': 'TTM Dividend Yield',\n",
        "    'fiveYearAvgDividendYield': '5Y Avg DY',\n",
        "    'beta': 'Beta',\n",
        "    'pegRatio': 'PEG Ratio',\n",
        "    '52WeekChange': '52W Change',\n",
        "    'payoutRatio': 'Payout Ratio',\n",
        "    'bookValue': 'Book Value',\n",
        "    'priceToBook': 'Price to Book Ratio',\n",
        "    'trailingEps': 'Trailing EPS',\n",
        "    'forwardEps': 'Forward EPS',\n",
        "    'quickRatio': 'Quick Ratio',\n",
        "    'currentRatio': 'Current Ratio',\n",
        "    'debtToEquity': 'Debt to Equity Ratio',\n",
        "    'revenuePerShare': 'Revenue per Share',\n",
        "    'returnOnAssets': 'Return on Assets',\n",
        "    'returnOnEquity': 'ROE',\n",
        "    'earningsGrowth': 'Earnings Growth',\n",
        "    'revenueGrowth': 'Revenue Growth',\n",
        "    'grossMargins': 'Gross Margins',\n",
        "    'ebitdaMargins': 'EBITDA Margins',\n",
        "    'operatingMargins': 'Operating Margins'\n",
        "}"
      ],
      "metadata": {
        "id": "I2oamfh7I1YN"
      },
      "execution_count": 9,
      "outputs": []
    },
    {
      "cell_type": "code",
      "source": [
        "# Get stock data\n",
        "stock_data = get_stock_data(ticker_symbols, data_list, mapped_data_list)\n",
        "\n",
        "# Create a DataFrame from the dictionary\n",
        "df = pd.DataFrame(stock_data)\n",
        "\n",
        "# Save the 'tickers' worksheet in the Excel file\n",
        "df.to_excel(EXCEL_FILE_PATH, sheet_name='tickers', index=False)\n",
        "\n",
        "# Load the Excel file for formatting and other operations\n",
        "wb = load_workbook(EXCEL_FILE_PATH)\n",
        "\n",
        "# Format the first row to wrap text\n",
        "for cell in wb['tickers'][1]:\n",
        "    cell.alignment = Alignment(wrap_text=True)\n",
        "\n",
        "# Set the width of the first two columns\n",
        "wb['tickers'].column_dimensions['A'].width = 20\n",
        "wb['tickers'].column_dimensions['B'].width = 30\n",
        "\n",
        "# Save the modified Excel file (with 'tickers' worksheet) to a temporary file\n",
        "temp_excel_file_path = 'temp_colab_stock_data.xlsx'\n",
        "wb.save(temp_excel_file_path)\n",
        "\n",
        "# Extract dividend data\n",
        "dividend_data = extract_dividend_data(ticker_symbols)"
      ],
      "metadata": {
        "id": "vhuS7rT2I1hT"
      },
      "execution_count": 10,
      "outputs": []
    },
    {
      "cell_type": "code",
      "source": [
        "# Save the dividend data to the Excel file\n",
        "save_dividend_data_to_excel(dividend_data, 'dividends', EXCEL_FILE_PATH)\n",
        "\n",
        "# Print exit message\n",
        "print(f\"Dividend information saved to '{EXCEL_FILE_PATH}' in the 'dividends' worksheet.\")\n",
        "\n",
        "# Download the file to your local PC\n",
        "files.download(EXCEL_FILE_PATH)\n",
        "\n",
        "# Print exit message\n",
        "print(f\"File saved to {EXCEL_FILE_PATH}\")"
      ],
      "metadata": {
        "colab": {
          "base_uri": "https://localhost:8080/",
          "height": 52
        },
        "id": "Fo1e3mn-I1lc",
        "outputId": "1fc9317e-9215-4289-9220-29b19444267b"
      },
      "execution_count": 11,
      "outputs": [
        {
          "output_type": "stream",
          "name": "stdout",
          "text": [
            "Dividend information saved to 'colab_stock_data.xlsx' in the 'dividends' worksheet.\n"
          ]
        },
        {
          "output_type": "display_data",
          "data": {
            "text/plain": [
              "<IPython.core.display.Javascript object>"
            ],
            "application/javascript": [
              "\n",
              "    async function download(id, filename, size) {\n",
              "      if (!google.colab.kernel.accessAllowed) {\n",
              "        return;\n",
              "      }\n",
              "      const div = document.createElement('div');\n",
              "      const label = document.createElement('label');\n",
              "      label.textContent = `Downloading \"${filename}\": `;\n",
              "      div.appendChild(label);\n",
              "      const progress = document.createElement('progress');\n",
              "      progress.max = size;\n",
              "      div.appendChild(progress);\n",
              "      document.body.appendChild(div);\n",
              "\n",
              "      const buffers = [];\n",
              "      let downloaded = 0;\n",
              "\n",
              "      const channel = await google.colab.kernel.comms.open(id);\n",
              "      // Send a message to notify the kernel that we're ready.\n",
              "      channel.send({})\n",
              "\n",
              "      for await (const message of channel.messages) {\n",
              "        // Send a message to notify the kernel that we're ready.\n",
              "        channel.send({})\n",
              "        if (message.buffers) {\n",
              "          for (const buffer of message.buffers) {\n",
              "            buffers.push(buffer);\n",
              "            downloaded += buffer.byteLength;\n",
              "            progress.value = downloaded;\n",
              "          }\n",
              "        }\n",
              "      }\n",
              "      const blob = new Blob(buffers, {type: 'application/binary'});\n",
              "      const a = document.createElement('a');\n",
              "      a.href = window.URL.createObjectURL(blob);\n",
              "      a.download = filename;\n",
              "      div.appendChild(a);\n",
              "      a.click();\n",
              "      div.remove();\n",
              "    }\n",
              "  "
            ]
          },
          "metadata": {}
        },
        {
          "output_type": "display_data",
          "data": {
            "text/plain": [
              "<IPython.core.display.Javascript object>"
            ],
            "application/javascript": [
              "download(\"download_fdd4a9ad-3664-4673-8a9d-3d99f2240023\", \"colab_stock_data.xlsx\", 105800)"
            ]
          },
          "metadata": {}
        },
        {
          "output_type": "stream",
          "name": "stdout",
          "text": [
            "File saved to colab_stock_data.xlsx\n"
          ]
        }
      ]
    }
  ],
  "metadata": {
    "colab": {
      "provenance": [],
      "authorship_tag": "ABX9TyOilD1+wzxt0m0i2i+eF9Id"
    },
    "kernelspec": {
      "display_name": "Python 3",
      "name": "python3"
    },
    "language_info": {
      "name": "python"
    }
  },
  "nbformat": 4,
  "nbformat_minor": 0
}