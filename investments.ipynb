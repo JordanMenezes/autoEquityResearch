{
  "nbformat": 4,
  "nbformat_minor": 0,
  "metadata": {
    "colab": {
      "provenance": [],
      "authorship_tag": "ABX9TyMw7w+QDga8I/b3pl+e87W4",
      "include_colab_link": true
    },
    "kernelspec": {
      "name": "python3",
      "display_name": "Python 3"
    },
    "language_info": {
      "name": "python"
    }
  },
  "cells": [
    {
      "cell_type": "markdown",
      "metadata": {
        "id": "view-in-github",
        "colab_type": "text"
      },
      "source": [
        "<a href=\"https://colab.research.google.com/github/voidbydefault/autoEquityResearch/blob/main/investments.ipynb\" target=\"_parent\"><img src=\"https://colab.research.google.com/assets/colab-badge.svg\" alt=\"Open In Colab\"/></a>"
      ]
    },
    {
      "cell_type": "markdown",
      "source": [
        "# Welcome to Automated Equity Investment Research\n",
        "\n",
        "Welcome to this *work-in-progress* tool designed to assist analysts in automating equity investment research for stocks of choice and discovering potential investment opportunities.\n",
        "\n",
        "## What Does This Tool Do?\n",
        "\n",
        "This tool automates the process of gathering both technical and fundamental information. By default, it covers companies listed on the Saudi stock exchange. You can customize the selection by adding your preferred stock tickers; refer to the `How to Select Companies` section for guidance.\n",
        "\n",
        "## How to Use\n",
        "\n",
        "1. If you're new to Python, simply press CTRL+F9 to execute the script. Wait until it finishes running, and an Excel file named `colab_stock_data.xlsx` is saved in your Downloads folder.\n",
        "\n",
        "2. You may also run this on your mobile devices. However, you will need a spreadsheet/Excel app.\n",
        "\n",
        "## How to Select Companies\n",
        "\n",
        "Navigate to the `Select Your Companies` section below and modify the list of stock tickers according to your preferences. You can find ticker names on https://finance.yahoo.com/ for use in this tool.\n",
        "\n",
        "```\n",
        "**Disclaimer:** This tool is provided for educational and recreational\n",
        "purposes and should not be considered as investment advice. Information\n",
        "is sourced from Yahoo! Finance and is provided as-is, without any expressed\n",
        "or implied warranties.\n",
        "\n",
        "Your feedback and ideas for improvement are welcome.\n",
        "```"
      ],
      "metadata": {
        "id": "kS0fJUN293PI"
      }
    },
    {
      "cell_type": "code",
      "execution_count": null,
      "metadata": {
        "id": "aUyW9_TBV3Ca"
      },
      "outputs": [],
      "source": [
        "!pip install yfinance"
      ]
    },
    {
      "cell_type": "code",
      "source": [
        "!pip install pandas"
      ],
      "metadata": {
        "id": "wlgHrVFkg014"
      },
      "execution_count": null,
      "outputs": []
    },
    {
      "cell_type": "code",
      "source": [
        "!pip install requests_cache"
      ],
      "metadata": {
        "id": "NyiqqpQSg3B_"
      },
      "execution_count": null,
      "outputs": []
    },
    {
      "cell_type": "code",
      "source": [
        "!pip install datetime"
      ],
      "metadata": {
        "id": "OXu2a6_1g3I8"
      },
      "execution_count": null,
      "outputs": []
    },
    {
      "cell_type": "code",
      "source": [
        "!pip install requests"
      ],
      "metadata": {
        "id": "95jtybDVg3N0"
      },
      "execution_count": null,
      "outputs": []
    },
    {
      "cell_type": "code",
      "source": [
        "!pip install google.colab"
      ],
      "metadata": {
        "id": "lWZmjQdxg3RN"
      },
      "execution_count": null,
      "outputs": []
    },
    {
      "cell_type": "code",
      "source": [
        "!pip install openpyxl"
      ],
      "metadata": {
        "id": "OrwQpbMKVuEm"
      },
      "execution_count": null,
      "outputs": []
    },
    {
      "cell_type": "code",
      "source": [
        "import yfinance\n",
        "import requests_cache\n",
        "import pandas as pd\n",
        "import requests.exceptions\n",
        "from datetime import datetime, timedelta\n",
        "from google.colab import files\n",
        "from pandas.core.dtypes.inference import is_number\n",
        "from openpyxl import load_workbook\n",
        "from openpyxl.styles import Alignment"
      ],
      "metadata": {
        "id": "1JkAdV-EdadC"
      },
      "execution_count": null,
      "outputs": []
    },
    {
      "cell_type": "code",
      "source": [
        "# Select your companies here\n",
        "ticker_symbols = ['8010.SR', '8020.SR', '8030.SR', '8040.SR', '8050.SR', '8060.SR',\n",
        "                  '8070.SR', '8100.SR', '8120.SR', '8150.SR', '8160.SR', '8170.SR',\n",
        "                  '8180.SR', '8190.SR', '8200.SR', '8210.SR', '8230.SR', '8240.SR',\n",
        "                  '8270.SR', '8280.SR', '2050.SR', '2100.SR', '2270.SR', '2280.SR',\n",
        "                  '4061.SR', '6001.SR', '6002.SR', '6010.SR', '6020.SR', '6040.SR',\n",
        "                  '6050.SR', '6060.SR', '6070.SR', '6090.SR', '1010.SR', '1020.SR',\n",
        "                  '1030.SR', '1050.SR', '1060.SR', '1080.SR', '8250.SR', '8260.SR',\n",
        "                  '1120.SR', '1140.SR', '1150.SR', '1210.SR', '1211.SR', '1212.SR',\n",
        "                  '1213.SR', '1214.SR', '1320.SR', '2001.SR', '2010.SR', '4332.SR',\n",
        "                  '2020.SR', '2030.SR', '2040.SR', '2060.SR', '2070.SR', '2080.SR',\n",
        "                  '2090.SR', '2110.SR', '2120.SR', '2130.SR', '2140.SR', '2150.SR',\n",
        "                  '2160.SR', '2170.SR', '2180.SR', '2190.SR', '2200.SR', '2210.SR',\n",
        "                  '2220.SR', '2230.SR', '2240.SR', '2250.SR', '2290.SR', '2300.SR',\n",
        "                  '2310.SR', '2320.SR', '2330.SR', '2340.SR', '2350.SR', '2360.SR',\n",
        "                  '2370.SR', '2380.SR', '3010.SR', '3020.SR', '3030.SR', '3040.SR',\n",
        "                  '3050.SR', '3060.SR', '3080.SR', '3090.SR', '4001.SR', '4002.SR',\n",
        "                  '4010.SR', '4020.SR', '4030.SR', '4040.SR', '4050.SR', '4070.SR',\n",
        "                  '4080.SR', '4090.SR', '4100.SR', '4110.SR', '4130.SR', '4140.SR',\n",
        "                  '4150.SR', '4160.SR', '4170.SR', '4180.SR', '4190.SR', '4200.SR',\n",
        "                  '4210.SR', '4220.SR', '4230.SR', '4240.SR', '4250.SR', '4260.SR',\n",
        "                  '4270.SR', '4280.SR', '4290.SR', '4300.SR', '5110.SR', '7010.SR',\n",
        "                  '7020.SR', '7030.SR', '7040.SR', '3091.SR', '8300.SR', '8311.SR',\n",
        "                  '8310.SR', '1301.SR', '4310.SR', '4003.SR', '3001.SR', '1302.SR',\n",
        "                  '1201.SR', '1810.SR', '3002.SR', '3003.SR', '6004.SR', '4009.SR',\n",
        "                  '8312.SR', '4004.SR', '4005.SR', '3004.SR', '8012.SR', '1820.SR',\n",
        "                  '3005.SR', '4006.SR', '4007.SR', '1180.SR', '1303.SR', '1202.SR',\n",
        "                  '4008.SR', '4031.SR', '4320.SR', '1304.SR', '4011.SR', '4330.SR',\n",
        "                  '4333.SR', '4012.SR', '3008.SR', '3007.SR', '4334.SR', '4336.SR',\n",
        "                  '4335.SR', '4338.SR', '4337.SR', '4339.SR', '4340.SR', '4344.SR',\n",
        "                  '1830.SR', '4291.SR', '4342.SR', '7200.SR', '4321.SR', '4347.SR',\n",
        "                  '4348.SR', '4346.SR', '4345.SR', '4292.SR', '1831.SR', '2222.SR',\n",
        "                  '4331.SR', '4191.SR']"
      ],
      "metadata": {
        "id": "OJGzsBzotn27"
      },
      "execution_count": null,
      "outputs": []
    },
    {
      "cell_type": "code",
      "source": [
        "# Data of interest\n",
        "data_list = [\n",
        "    'industry', 'shortName', 'symbol', 'recommendationMean', 'recommendationKey',\n",
        "    'numberOfAnalystOpinions', 'currentPrice', 'fiftyTwoWeekLow', 'fiftyTwoWeekHigh',\n",
        "    '52WeekChange', 'SandP52WeekChange', 'targetHighPrice', 'targetLowPrice',\n",
        "    'targetMeanPrice', 'fiftyDayAverage', 'twoHundredDayAverage', 'beta', 'pegRatio',\n",
        "    'trailingPE', 'forwardPE', 'dividendRate', 'dividendYield', 'trailingAnnualDividendRate',\n",
        "    'trailingAnnualDividendYield', 'fiveYearAvgDividendYield', 'payoutRatio',\n",
        "    'bookValue', 'priceToBook', 'revenuePerShare', 'quickRatio', 'currentRatio',\n",
        "    'debtToEquity', 'returnOnAssets', 'returnOnEquity', 'earningsGrowth', 'revenueGrowth',\n",
        "    'grossMargins', 'ebitdaMargins', 'operatingMargins', 'trailingEps', 'forwardEps'\n",
        "]\n",
        "\n",
        "mapped_data_list = {\n",
        "    'numberOfAnalystOpinions': \"AnalystCount\",\n",
        "    'industry': 'Industry',\n",
        "    'shortName': 'Name',\n",
        "    'symbol': 'Symbol',\n",
        "    'currentPrice': 'Last Price',\n",
        "    'fiftyTwoWeekLow': '52-Week Low',\n",
        "    'fiftyTwoWeekHigh': '52-Week High',\n",
        "    'fiftyDayAverage': '50-Day Average',\n",
        "    'twoHundredDayAverage': '200-Day Average',\n",
        "    'targetHighPrice': 'TP High',\n",
        "    'targetLowPrice': 'TP Low',\n",
        "    'targetMeanPrice': 'TP Average',\n",
        "    'recommendationMean': 'Recommendation Score (x/5)',\n",
        "    'recommendationKey': 'Recommendation',\n",
        "    'trailingPE': 'TTM PE',\n",
        "    'forwardPE': 'Forward PE',\n",
        "    'dividendRate': 'Dividend Rate',\n",
        "    'dividendYield': 'Dividend Yield',\n",
        "    'trailingAnnualDividendRate': 'TTM Dividend Rate',\n",
        "    'trailingAnnualDividendYield': 'TTM Dividend Yield',\n",
        "    'fiveYearAvgDividendYield': '5Y Avg DY',\n",
        "    'beta': 'Beta',\n",
        "    'pegRatio': 'PEG Ratio',\n",
        "    '52WeekChange': '52W Change',\n",
        "    'SandP52WeekChange': 'S&P 500 52W Change',\n",
        "    'payoutRatio': 'Payout Ratio',\n",
        "    'bookValue': 'Book Value',\n",
        "    'priceToBook': 'Price to Book Ratio',\n",
        "    'trailingEps': 'Trailing EPS',\n",
        "    'forwardEps': 'Forward EPS',\n",
        "    'quickRatio': 'Quick Ratio',\n",
        "    'currentRatio': 'Current Ratio',\n",
        "    'debtToEquity': 'Debt to Equity Ratio',\n",
        "    'revenuePerShare': 'Revenue per Share',\n",
        "    'returnOnAssets': 'Return on Assets',\n",
        "    'returnOnEquity': 'ROE',\n",
        "    'earningsGrowth': 'Earnings Growth',\n",
        "    'revenueGrowth': 'Revenue Growth',\n",
        "    'grossMargins': 'Gross Margins',\n",
        "    'ebitdaMargins': 'EBITDA Margins',\n",
        "    'operatingMargins': 'Operating Margins'\n",
        "}"
      ],
      "metadata": {
        "id": "Z_xjdGcNtrLU"
      },
      "execution_count": null,
      "outputs": []
    },
    {
      "cell_type": "code",
      "source": [
        "# Nothing required from casual users\n",
        "# Install requests_cache\n",
        "requests_cache.install_cache('my_cache', expire_after=3600)\n",
        "\n",
        "# Set display options to show all rows and columns\n",
        "pd.set_option('display.max_rows', None)\n",
        "pd.set_option('display.max_columns', None)\n",
        "\n",
        "result_dict = {}\n",
        "\n",
        "with requests_cache.CachedSession():\n",
        "    for ticker in ticker_symbols:\n",
        "        try:\n",
        "            info = yfinance.Ticker(ticker).info\n",
        "\n",
        "            for data_item in data_list:\n",
        "                try:\n",
        "                    # Get the alias from mapped_data_list using data_item as the key\n",
        "                    alias = mapped_data_list.get(data_item)\n",
        "\n",
        "                    # Append the data to the result_dict using the alias as the key\n",
        "                    result_dict.setdefault(alias, []).append(info.get(data_item))\n",
        "                except requests.exceptions.HTTPError as e:\n",
        "                    print(f\"An error occurred in getting {data_item}: {e}\")\n",
        "\n",
        "        except requests.exceptions.HTTPError as e:\n",
        "            print(f\"An error occurred for ticker {ticker}: {e}\")\n",
        "\n",
        "# Create a DataFrame from the dictionary\n",
        "df = pd.DataFrame(result_dict)\n",
        "\n",
        "# Save the DataFrame to an Excel file in Colab\n",
        "excel_file_path = 'colab_stock_data.xlsx'\n",
        "df.to_excel(excel_file_path, index=False)\n",
        "\n",
        "# Load the Excel file using openpyxl\n",
        "wb = load_workbook(excel_file_path)\n",
        "ws = wb.active\n",
        "\n",
        "# Format the first row to wrap text\n",
        "for cell in ws[1]:\n",
        "    cell.alignment = Alignment(wrap_text=True)\n",
        "\n",
        "# Set the width of the first two columns (A and B) to 200 pixels\n",
        "ws.column_dimensions['A'].width = 20\n",
        "ws.column_dimensions['B'].width = 30\n",
        "\n",
        "# Save the modified Excel file\n",
        "wb.save(excel_file_path)\n",
        "\n",
        "# Download the file to your local PC\n",
        "files.download(excel_file_path)\n",
        "\n",
        "# Print exit message\n",
        "print(f\"DataFrame saved to {excel_file_path}\")"
      ],
      "metadata": {
        "id": "OAxfXVefttxy"
      },
      "execution_count": null,
      "outputs": []
    }
  ]
}